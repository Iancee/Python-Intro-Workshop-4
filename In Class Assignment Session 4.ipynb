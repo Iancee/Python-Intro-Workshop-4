{
 "cells": [
  {
   "cell_type": "code",
   "execution_count": null,
   "metadata": {},
   "outputs": [],
   "source": [
    "#Use a feature layer to select bike shops from the SF Businesses shp, export as a new shapefile\n",
    "\n"
   ]
  },
  {
   "cell_type": "code",
   "execution_count": null,
   "metadata": {},
   "outputs": [],
   "source": [
    "#The goal of this problem is to create a list of dictionaries that contain the address information in the below list.\n",
    "#Write some code to iterate through the list and save each address into a dictionary\n",
    "#The dictionary should have keys for the building number, street name and street suffix.\n",
    "#Hint... look up the string method .split() to help with this\n",
    "\n",
    "addr_list = ['1 Dr Carlton B Goodlett Pl', '100 John F Kennedy Dr', '3601 Lyon St', '1 Telegraph Hill Blvd']\n",
    "\n"
   ]
  },
  {
   "cell_type": "code",
   "execution_count": null,
   "metadata": {},
   "outputs": [],
   "source": [
    "#Write some code to identify bars in SF that have pizza restaurants within 250ft.\n",
    "#Hint... use dba_name in the SF_Businesses.shp to identify the businesses, then compare spatially\n",
    "\n",
    "\n"
   ]
  }
 ],
 "metadata": {
  "kernelspec": {
   "display_name": "Python 3",
   "language": "python",
   "name": "python3"
  },
  "language_info": {
   "codemirror_mode": {
    "name": "ipython",
    "version": 3
   },
   "file_extension": ".py",
   "mimetype": "text/x-python",
   "name": "python",
   "nbconvert_exporter": "python",
   "pygments_lexer": "ipython3",
   "version": "3.9.11"
  }
 },
 "nbformat": 4,
 "nbformat_minor": 2
}
