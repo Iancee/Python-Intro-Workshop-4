{
 "cells": [
  {
   "cell_type": "markdown",
   "metadata": {},
   "source": [
    "# Feature Layers\n",
    "Feature layers are used to select by attribute or location using shapefiles or feature classes.\n",
    "\n",
    "Link to ESRI documentation page:\n",
    "https://pro.arcgis.com/en/pro-app/tool-reference/data-management/make-feature-layer.htm\n"
   ]
  },
  {
   "cell_type": "code",
   "execution_count": null,
   "metadata": {},
   "outputs": [],
   "source": [
    "#A feature layer is created by using the make feature layer function from the arcpy library\n",
    "import arcpy\n",
    "\n",
    "bike_shp = r\"C:\\Users\\ian.conroy\\Desktop\\Bay Geo Classes\\Python Class\\GIS_Data\\SF_SHPs\\SF_Bike_Network.shp\"\n",
    "\n",
    "arcpy.MakeFeatureLayer_management(bike_shp, \"bike_network_lyr\")\n",
    "\n",
    "#The layer can be represented by a string as the input to the function\n",
    "#This string is accessible to other arcpy functions as a variable, but python doesn't recognize it as an object"
   ]
  },
  {
   "cell_type": "code",
   "execution_count": null,
   "metadata": {},
   "outputs": [],
   "source": [
    "\"bike_network_lyr\""
   ]
  },
  {
   "cell_type": "code",
   "execution_count": null,
   "metadata": {},
   "outputs": [],
   "source": [
    "type(\"bike_network_lyr\")"
   ]
  },
  {
   "cell_type": "code",
   "execution_count": null,
   "metadata": {},
   "outputs": [],
   "source": [
    "#Once we have a feature layer, we can select a sub-set of features to work with\n",
    "arcpy.SelectLayerByAttribute_management(\"bike_network_lyr\", \"NEW_SELECTION\", \"facility_t = 'CLASS I'\")\n"
   ]
  },
  {
   "cell_type": "code",
   "execution_count": null,
   "metadata": {},
   "outputs": [],
   "source": [
    "#Lets export the selected features\n",
    "#Notice that we can format the text to make it easier to read by hitting enter, this doesn't cause problems in IDEs\n",
    "arcpy.FeatureClassToFeatureClass_conversion(\"bike_network_lyr\", \n",
    "                                            r\"C:\\Users\\ian.conroy\\Desktop\\Bay Geo Classes\\Python Class\\Output_Folder\",\n",
    "                                            \"Class_1_Bike_Route\")\n"
   ]
  },
  {
   "cell_type": "code",
   "execution_count": null,
   "metadata": {},
   "outputs": [],
   "source": [
    "#The help function shows details about what you put inside it\n",
    "help(arcpy.FeatureClassToFeatureClass_conversion)"
   ]
  },
  {
   "cell_type": "code",
   "execution_count": null,
   "metadata": {},
   "outputs": [],
   "source": [
    "#You can also save a feature layer to a variable, then Python will recognize it.\n",
    "\n",
    "bike_shp = r\"C:\\Users\\ian.conroy\\Desktop\\Bay Geo Classes\\Python Class\\GIS_Data\\SF_SHPs\\SF_Bike_Network.shp\"\n",
    "\n",
    "bike_lyr = arcpy.MakeFeatureLayer_management(bike_shp)\n"
   ]
  },
  {
   "cell_type": "code",
   "execution_count": null,
   "metadata": {},
   "outputs": [],
   "source": [
    "help(arcpy.MakeFeatureLayer_management)"
   ]
  },
  {
   "cell_type": "code",
   "execution_count": null,
   "metadata": {},
   "outputs": [],
   "source": [
    "bike_lyr"
   ]
  },
  {
   "cell_type": "code",
   "execution_count": null,
   "metadata": {},
   "outputs": [],
   "source": [
    "type(bike_lyr)"
   ]
  },
  {
   "cell_type": "code",
   "execution_count": null,
   "metadata": {},
   "outputs": [],
   "source": [
    "#Let's select the same features as above, but using the variable feature layer\n",
    "arcpy.SelectLayerByAttribute_management(bike_lyr, \"NEW_SELECTION\", \"facility_t = 'CLASS I'\")\n"
   ]
  },
  {
   "cell_type": "code",
   "execution_count": null,
   "metadata": {},
   "outputs": [],
   "source": [
    "#We can use the get count function to get the number of features selected\n",
    "select_count = arcpy.GetCount_management(bike_lyr)\n",
    "print('We selected {} features'.format(select_count))"
   ]
  },
  {
   "cell_type": "code",
   "execution_count": null,
   "metadata": {},
   "outputs": [],
   "source": [
    "#We can clear our selections and check the number of features selected again\n",
    "arcpy.SelectLayerByAttribute_management(bike_lyr, \"CLEAR_SELECTION\")\n"
   ]
  },
  {
   "cell_type": "code",
   "execution_count": null,
   "metadata": {},
   "outputs": [],
   "source": [
    "select_count = arcpy.GetCount_management(bike_lyr)\n",
    "print('The total number of features is:', select_count)"
   ]
  },
  {
   "cell_type": "code",
   "execution_count": null,
   "metadata": {},
   "outputs": [],
   "source": [
    "sf_businesses = \"C://Users//ian.conroy//Desktop//Bay Geo Classes//Python Class//GIS_Data//SF_SHPs//SF_Businesses.shp\"\n",
    "\n",
    "businesses = arcpy.MakeFeatureLayer_management(sf_businesses)\n",
    "\n",
    "arcpy.SelectLayerByLocation_management(businesses, \"WITHIN_A_DISTANCE\", bike_lyr, \"25 FEET\")"
   ]
  },
  {
   "cell_type": "code",
   "execution_count": null,
   "metadata": {},
   "outputs": [],
   "source": [
    "arcpy.FeatureClassToFeatureClass_conversion(businesses, \n",
    "                                            r\"C:\\Users\\ian.conroy\\Desktop\\Bay Geo Classes\\Python Class\\Output_Folder\",\n",
    "                                            \"Bikeable_Businesses\")"
   ]
  },
  {
   "cell_type": "markdown",
   "metadata": {},
   "source": [
    "# Functions\n",
    "Functions should be created in the top portion of your script and used in the code below.\n",
    "\n",
    "The def keyword will tell python you're defining a function.  The line needs to end with a colon and the lines of code in your function need to be indented.\n",
    "The return keyword is what sends data out of the function and back into your script or python session where it can be used.\n",
    "\n",
    "A function doesn't have to have any inputs.\n",
    "If you want to have inputs to your function, put variables into the paranthesis.\n",
    "In the body of your function use the variables to combine some data processing.\n",
    "Then you can return the result."
   ]
  },
  {
   "cell_type": "code",
   "execution_count": null,
   "metadata": {},
   "outputs": [],
   "source": [
    "def myfunction():\n",
    "    \n",
    "    return 'results of function'\n"
   ]
  },
  {
   "cell_type": "code",
   "execution_count": null,
   "metadata": {},
   "outputs": [],
   "source": [
    "myfunction()"
   ]
  },
  {
   "cell_type": "code",
   "execution_count": null,
   "metadata": {},
   "outputs": [],
   "source": [
    "def string_function(string1, string2):\n",
    "    combo = string1 + ' ' + string2\n",
    "    return combo"
   ]
  },
  {
   "cell_type": "code",
   "execution_count": null,
   "metadata": {},
   "outputs": [],
   "source": [
    "string_function('thing1', 'thing2')"
   ]
  },
  {
   "cell_type": "code",
   "execution_count": null,
   "metadata": {},
   "outputs": [],
   "source": [
    "string_function('Hello', 'World!')\n"
   ]
  },
  {
   "cell_type": "code",
   "execution_count": null,
   "metadata": {},
   "outputs": [],
   "source": [
    "combined_string = string_function('Hello', 'World!')"
   ]
  },
  {
   "cell_type": "code",
   "execution_count": null,
   "metadata": {},
   "outputs": [],
   "source": [
    "combined_string"
   ]
  },
  {
   "cell_type": "code",
   "execution_count": null,
   "metadata": {},
   "outputs": [],
   "source": [
    "def select_loc(shp1, shp2, search_dist, output_loc, out_name):\n",
    "    arcpy.MakeFeatureLayer_management(shp2, \"shp2_lyr\")\n",
    "    arcpy.SelectLayerByLocation_management(\"shp2_lyr\", \"WITHIN_A_DISTANCE\", shp1, search_dist)\n",
    "    arcpy.FeatureClassToFeatureClass_conversion(\"shp2_lyr\", output_loc, out_name + '.shp')\n",
    "    return \n",
    "    "
   ]
  },
  {
   "cell_type": "code",
   "execution_count": null,
   "metadata": {},
   "outputs": [],
   "source": [
    "import os\n",
    "arcpy.env.overwriteOutput = True\n",
    "\n",
    "point = r\"C:\\Users\\ian.conroy\\Desktop\\Bay Geo Classes\\Python Class\\GIS_Data\\Point_of_Interest.shp\"\n",
    "bike_shp = r\"C:\\Users\\ian.conroy\\Desktop\\Bay Geo Classes\\Python Class\\GIS_Data\\SF_SHPs\\SF_Bike_Network.shp\"\n",
    "outfolder = r\"C:\\Users\\ian.conroy\\Desktop\\Bay Geo Classes\\Python Class\\Output_Folder\\function\"\n",
    "\n",
    "os.mkdir(outfolder)\n",
    "\n",
    "select_loc(point, bike_shp, \"1000 FEET\", outfolder, 'selected_bikeRoutes')"
   ]
  },
  {
   "cell_type": "code",
   "execution_count": null,
   "metadata": {},
   "outputs": [],
   "source": [
    "#The help function shows details about what you put inside it\n",
    "#help(str)\n",
    "help(arcpy.SelectLayerByLocation_management)\n"
   ]
  },
  {
   "cell_type": "code",
   "execution_count": null,
   "metadata": {},
   "outputs": [],
   "source": [
    "help(arcpy.Buffer_analysis)"
   ]
  },
  {
   "cell_type": "code",
   "execution_count": null,
   "metadata": {},
   "outputs": [],
   "source": [
    "help(select_loc)"
   ]
  },
  {
   "cell_type": "code",
   "execution_count": null,
   "metadata": {},
   "outputs": [],
   "source": [
    "#Let's redefine our function and add a doc string\n",
    "\n",
    "def select_locv2(shp1, shp2, search_dist, output_loc, out_name):\n",
    "    \"\"\"This function will select features from shp2 that are within a certain distance (search_dist) of shp1.\n",
    "    The function will create a shapefile in the output folder with the name specified.\\n\n",
    "    The search distance needs to have the units in FEET, METERS etc... not ft., m etc...\"\"\"\n",
    "    \n",
    "    arcpy.MakeFeatureLayer_management(shp2, \"shp2_lyr\")\n",
    "    arcpy.SelectLayerByLocation_management(\"shp2_lyr\", \"WITHIN_A_DISTANCE\", shp1, search_dist)\n",
    "    arcpy.FeatureClassToFeatureClass_conversion(\"shp2_lyr\", output_loc, out_name + '.shp')\n",
    "    return "
   ]
  },
  {
   "cell_type": "code",
   "execution_count": null,
   "metadata": {
    "scrolled": true
   },
   "outputs": [],
   "source": [
    "help(select_locv2)"
   ]
  }
 ],
 "metadata": {
  "kernelspec": {
   "display_name": "Python 3",
   "language": "python",
   "name": "python3"
  },
  "language_info": {
   "codemirror_mode": {
    "name": "ipython",
    "version": 3
   },
   "file_extension": ".py",
   "mimetype": "text/x-python",
   "name": "python",
   "nbconvert_exporter": "python",
   "pygments_lexer": "ipython3",
   "version": "3.7.10"
  }
 },
 "nbformat": 4,
 "nbformat_minor": 2
}
